{
 "cells": [
  {
   "cell_type": "code",
   "execution_count": 1,
   "metadata": {},
   "outputs": [],
   "source": [
    "import pandas as pd\n",
    "import numpy as np\n",
    "import tensorflow as tf\n",
    "import scipy.io.wavfile\n",
    "import soundfile as sf\n",
    "import os\n",
    "import warnings\n",
    "import joblib\n",
    "from tqdm import tqdm\n",
    "warnings.filterwarnings(\"ignore\")"
   ]
  },
  {
   "cell_type": "code",
   "execution_count": 2,
   "metadata": {},
   "outputs": [],
   "source": [
    "# loading amplitude of frequency 0Hz - 11025Hz    \n",
    "def load_fft_amplitude(path):\n",
    "    y, signal = scipy.io.wavfile.read(path) \n",
    "        \n",
    "    fft_spectrum = np.fft.rfft(signal)\n",
    "    freq = np.fft.rfftfreq(signal.size, d=1./y)\n",
    "    fft_spectrum_abs = np.abs(fft_spectrum)\n",
    "    \n",
    "    data = np.column_stack((freq, np.round(fft_spectrum_abs)))\n",
    "    tmpdf = pd.DataFrame(data, columns=['freq', 'amp'])\n",
    "    tmpdf.loc[:, 'freq'] = np.round(tmpdf['freq'])\n",
    "    \n",
    "    df = pd.DataFrame(\n",
    "                np.array(tmpdf.groupby('freq').max('amp')).reshape(1, -1),\n",
    "                columns=[str(i) for i in range(0, 11025+1)],\n",
    "            )\n",
    "    \n",
    "    x = np.array(df, dtype=np.float32)\n",
    "    \n",
    "    loaded_model = joblib.load(STANDLISER_PATH)\n",
    "    x = loaded_model.transform(x)\n",
    "    x = np.reshape(x, (x.shape[0], x.shape[1], 1))\n",
    "    return x"
   ]
  },
  {
   "cell_type": "code",
   "execution_count": 3,
   "metadata": {},
   "outputs": [],
   "source": [
    "# predict music genre\n",
    "def get_prediction(x, interpreter):\n",
    "    interpreter.allocate_tensors()\n",
    "    input_details = interpreter.get_input_details()\n",
    "    output_detais = interpreter.get_output_details()\n",
    "    \n",
    "    interpreter.set_tensor(input_details[0]['index'], x)\n",
    "    interpreter.invoke()\n",
    "    result = interpreter.get_tensor(output_detais[0]['index'])\n",
    "    return result\n"
   ]
  },
  {
   "cell_type": "code",
   "execution_count": 4,
   "metadata": {},
   "outputs": [],
   "source": [
    "TFLITE_MODEL_PATH = 'model2.tflite'\n",
    "STANDLISER_PATH = 'scaler.pkl'\n",
    "STORE_DIR = 'tmp'\n",
    "DATADIR = 'sound_data/genres/'\n",
    "GENRES = ['blues', 'classical', 'country', 'disco', 'hiphop', 'jazz', 'metal', 'pop', 'reggae', 'rock']"
   ]
  },
  {
   "cell_type": "code",
   "execution_count": 5,
   "metadata": {},
   "outputs": [],
   "source": [
    "interpreter = tf.lite.Interpreter(model_path=TFLITE_MODEL_PATH)"
   ]
  },
  {
   "cell_type": "code",
   "execution_count": 6,
   "metadata": {},
   "outputs": [
    {
     "name": "stderr",
     "output_type": "stream",
     "text": [
      "100%|██████████| 100/100 [00:37<00:00,  2.67it/s]\n",
      "100%|██████████| 100/100 [00:38<00:00,  2.63it/s]\n",
      "100%|██████████| 100/100 [00:42<00:00,  2.36it/s]\n",
      "100%|██████████| 100/100 [00:27<00:00,  3.64it/s]\n",
      "100%|██████████| 100/100 [00:31<00:00,  3.18it/s]\n",
      "100%|██████████| 100/100 [00:38<00:00,  2.62it/s]\n",
      "100%|██████████| 100/100 [00:25<00:00,  3.96it/s]\n",
      "100%|██████████| 100/100 [00:18<00:00,  5.49it/s]\n",
      "100%|██████████| 100/100 [00:28<00:00,  3.57it/s]\n",
      "100%|██████████| 100/100 [00:40<00:00,  2.49it/s]"
     ]
    },
    {
     "name": "stdout",
     "output_type": "stream",
     "text": [
      "Number of unmatched: 1\n",
      "Overall accuracy: 99.9%\n",
      "List of unmatched songs: ['sound_data/genres//rock/rock.00016.wav']\n"
     ]
    },
    {
     "name": "stderr",
     "output_type": "stream",
     "text": [
      "\n"
     ]
    }
   ],
   "source": [
    "not_match = 0\n",
    "unmatch = []\n",
    "for i in range(10):\n",
    "    for file in tqdm(os.listdir(f\"{DATADIR}/{GENRES[i]}\")):\n",
    "        path = f\"{DATADIR}/{GENRES[i]}/{file}\"\n",
    "        x = load_fft_amplitude(path)\n",
    "        if np.argmax(get_prediction(x, interpreter)) != i:\n",
    "            not_match += 1\n",
    "            unmatch.append(path)        \n",
    "            \n",
    "print(f\"Number of unmatched: {not_match}\") \n",
    "print(f\"Overall accuracy: {(1000-not_match)/1000*100}%\")\n",
    "print(f\"List of unmatched songs: {unmatch}\")  "
   ]
  }
 ],
 "metadata": {
  "interpreter": {
   "hash": "9a2c2ef81291e3e3a506884a4f5c29791a7523fb6a6b9fdd4fd3297ed79291df"
  },
  "kernelspec": {
   "display_name": "Python 3.9.6 64-bit ('tf-gpu': conda)",
   "language": "python",
   "name": "python3"
  },
  "language_info": {
   "codemirror_mode": {
    "name": "ipython",
    "version": 3
   },
   "file_extension": ".py",
   "mimetype": "text/x-python",
   "name": "python",
   "nbconvert_exporter": "python",
   "pygments_lexer": "ipython3",
   "version": "3.9.6"
  },
  "orig_nbformat": 4
 },
 "nbformat": 4,
 "nbformat_minor": 2
}
